{
 "cells": [
  {
   "cell_type": "code",
   "execution_count": 1,
   "metadata": {},
   "outputs": [],
   "source": [
    "#Full Res Version\n",
    "myPath = \"/data3/drsteph/SpatialMap01/oligodT/\" # folder containing \n",
    "downsample_factor = 20 # just to speed up vignette estimation (reduces X and Y resolutions)\n",
    "downslice_factor = 40 # just to speed up vignette estimation (use only a random subset of slices)"
   ]
  },
  {
   "cell_type": "code",
   "execution_count": 2,
   "metadata": {},
   "outputs": [
    {
     "name": "stderr",
     "output_type": "stream",
     "text": [
      "Loading...: 48it [18:07, 22.66s/it]\n",
      "deriving vignette correction per channel...: 100%|██████████| 3/3 [05:31<00:00, 110.48s/it]\n"
     ]
    }
   ],
   "source": [
    "import h5py\n",
    "import numpy as np\n",
    "import matplotlib.pyplot as plt  \n",
    "import os\n",
    "from math import ceil, floor\n",
    "import tifffile as tif\n",
    "import json\n",
    "from tqdm import tqdm \n",
    "from scipy.ndimage import gaussian_filter\n",
    "from skimage.transform import resize, rescale\n",
    "\n",
    "def str_arr_to_float(str_array):\n",
    "    str_convert = \"\"\n",
    "    for i in range(len(str_array)):\n",
    "        str_convert += str_array[i].decode('UTF-8')\n",
    "    float_conv = float(str_convert)\n",
    "    return float_conv\n",
    "\n",
    "def col_mult(a,b):\n",
    "    a = np.array(a)\n",
    "    b = np.array(b)\n",
    "    tmp_array = np.zeros(a.shape)\n",
    "    for i in range(len(b)):\n",
    "        tmp_array[:,i] = a[:,i]*b[i]\n",
    "    return tmp_array\n",
    "\n",
    "def row_mult(a,b):\n",
    "    a = np.array(a)\n",
    "    b = np.array(b)\n",
    "    tmp_array = np.zeros(a.shape)\n",
    "    for i in range(len(b)):\n",
    "        tmp_array[i,:] = a[i,:]*b[i]\n",
    "    return tmp_array\n",
    "\n",
    "def col_sum(a,b):\n",
    "    a = np.array(a)\n",
    "    b = np.array(b)\n",
    "    b = np.transpose(b)\n",
    "    tmp_array = np.zeros(a.shape)\n",
    "    for i in range(len(b)):\n",
    "        tmp_array[:,i] = a[:,i]+b[i]\n",
    "    return tmp_array\n",
    "\n",
    "def row_sum(a,b):\n",
    "    a = np.array(a)\n",
    "    b = np.array(b)\n",
    "    tmp_array = np.zeros(a.shape)\n",
    "    for i in range(len(b)):\n",
    "        tmp_array[i,:] = a[i,:]+b[i]\n",
    "    return tmp_array\n",
    "\n",
    "def quantile(x,q,dim = -1):\n",
    "    if dim == 0:\n",
    "        row, col = x.shape\n",
    "        quant = np.zeros([row,1])\n",
    "        for i in range(row):\n",
    "            y = np.sort(x[i,:])\n",
    "            quant[i,0] = np.interp(q, np.linspace(1/(2*col), (2*col-1)/(2*col), col), y)\n",
    "    elif dim == 1:\n",
    "        row, col = x.shape\n",
    "        quant = np.zeros([1,col])\n",
    "        for i in range(col):\n",
    "            y = np.sort(x[:,i])\n",
    "            quant[0,i] = np.interp(q, np.linspace(1/(2*row), (2*row-1)/(2*row), row), y)\n",
    "    elif dim == -1:\n",
    "        x = x.reshape([len(x),])\n",
    "        n = len(x)\n",
    "        y = np.sort(x)\n",
    "        quant = (np.interp(q, np.linspace(1/(2*n), (2*n-1)/(2*n), n), y))\n",
    "    return quant\n",
    "\n",
    "def spaced_quantiles(x,bins):\n",
    "    vals = range(1,bins+1)\n",
    "    percentiles = np.divide(vals,bins+1)\n",
    "    bin_vals = np.array([quantile(x,q) for q in percentiles])\n",
    "    return bin_vals\n",
    "\n",
    "def isSquare(m): \n",
    "    return all (len (row) == len (m) for row in m)\n",
    "\n",
    "def histc(X, bins):\n",
    "    map_to_bins = np.digitize(X,bins)\n",
    "    r = np.zeros(bins.shape)\n",
    "    for i in map_to_bins:\n",
    "        r[i-1] += 1\n",
    "    return r\n",
    "\n",
    "def linhistmatch(a,b,nbins):\n",
    "    a_nan_idx = np.isnan(a)\n",
    "    b_nan_idx = np.isnan(b)\n",
    "    a = a[a_nan_idx==False]\n",
    "    b = b[b_nan_idx==False]\n",
    "    abins = np.transpose(spaced_quantiles(a,nbins))\n",
    "    bbins = np.transpose(spaced_quantiles(b,nbins))\n",
    "    ahat = np.transpose(histc(a,abins))\n",
    "    bhat = np.transpose(histc(b,bbins))\n",
    "    ones = np.ones(np.array([abins.shape[0],]))\n",
    "    adj_abins = np.transpose(np.stack([abins, ones]))\n",
    "    coeff = np.matmul(np.diag(bhat),adj_abins)\n",
    "    ords = np.matmul(np.diag(bhat),bbins)\n",
    "    if isSquare(coeff):\n",
    "        beta = np.linalg.solve(coeff,ords)\n",
    "    else:\n",
    "        q,r = np.linalg.qr(coeff)\n",
    "        beta = np.linalg.solve(r,np.matmul(np.linalg.pinv(q),ords))\n",
    "    atransform = np.full(a_nan_idx.shape, np.nan)\n",
    "    atransform[a_nan_idx==False] = a*beta[0] + beta[1]\n",
    "    return atransform, beta\n",
    "\n",
    "def vignette_correction(dataVolume, numbins = 200, templatetype = 'middle_slice',visual = 0):\n",
    "    if visual == 1:\n",
    "        dataVolume0=dataVolume;\n",
    "    Sh = []\n",
    "    Dh = []\n",
    "    Sv = []\n",
    "    Dv = []\n",
    "    Xh = np.reshape(dataVolume,(dataVolume.shape[0],-1),order='F')\n",
    "    Xht = np.zeros(Xh.shape)\n",
    "    Bh = np.zeros([Xh.shape[0],2])\n",
    "    if templatetype.lower() == 'middle_slice':\n",
    "        template = Xh[int(np.round(dataVolume.shape[0]/2)),:]\n",
    "        template = np.reshape(template, [1, len(template)],order='F')\n",
    "    if templatetype.lower() == 'middle_20_slice':\n",
    "        middle = int(np.round(dataVolume.shape[0]/2))\n",
    "        middle_20 = range(middle-10,middle+11)\n",
    "        template = Xh[middle_20,:]\n",
    "        template = np.reshape(template,[1, -1],order='F')\n",
    "    if templatetype.lower() == 'random':\n",
    "        numel = Xh.size\n",
    "        r = np.random.permutation(numel)\n",
    "        Xh_flattened = np.reshape(Xh,[-1,1],order='F')\n",
    "        template = Xh_flattened[r[0:Xh.shape[1]]]\n",
    "        template = np.reshape(template,[1, -1],order='F')\n",
    "\n",
    "    for i in range(Xh.shape[0]):\n",
    "        Xht[i,:], Bh[i,:] = linhistmatch(Xh[i,:],template,numbins)\n",
    "\n",
    "    Sh.append(Bh[:,0])\n",
    "    Dh.append(Bh[:,1])\n",
    "    new_dataVolume = np.reshape(Xht, dataVolume.shape,order='F')\n",
    "    new_dataVolume = np.flip(new_dataVolume, 2)\n",
    "\n",
    "    Xv = np.transpose(np.reshape(np.transpose(new_dataVolume,(1,0,2)),(new_dataVolume.shape[1],-1),order='F'))\n",
    "\n",
    "    Xvt = np.zeros(Xv.shape)\n",
    "    Bv = np.zeros([2,Xv.shape[1]])\n",
    "    if templatetype.lower() == 'middle_slice':\n",
    "        template = Xv[:,int(np.round(new_dataVolume.shape[0]/2))]\n",
    "        template = np.reshape(template, [1, len(template)],order='F')\n",
    "\n",
    "    if templatetype.lower() == 'middle_20_slice':\n",
    "        middle = int(np.round(new_dataVolume.shape[0]/2))\n",
    "        middle_20 = range(middle-10,middle+11)\n",
    "        template = Xv[:,middle_20]\n",
    "        template = np.reshape(template,[1, -1],order='F')\n",
    "\n",
    "    if templatetype.lower() == 'random':\n",
    "        numel = Xv.size\n",
    "        r = np.random.permutation(numel)\n",
    "        Xv_flattened = np.reshape(Xv,[-1,1],order='F')\n",
    "        template = Xv_flattened[r[0:Xv.shape[0]]]\n",
    "        template = np.reshape(template,[1, -1],order='F')\n",
    "\n",
    "    for i in range(Xv.shape[1]):\n",
    "        Xvt[:,i], Bv[:,i] = linhistmatch(Xv[:,i],template,numbins)\n",
    "    Sv.append(Bv[0,:])\n",
    "    Dv.append(Bv[1,:])\n",
    "\n",
    "    final_dataVolume = np.reshape(np.transpose(Xvt),dataVolume.shape,order='F')\n",
    "    s = dataVolume.shape[0]/5\n",
    "    vfield_corrected = np.transpose(gaussian_filter(np.max(final_dataVolume, axis = 2), sigma=s,mode = 'nearest',truncate=2.0))\n",
    "    vfield = np.transpose(gaussian_filter(np.max(dataVolume,axis =2), sigma=s,mode = 'nearest',truncate=2.0))\n",
    "    Sh = np.array(Sh)\n",
    "    Sv = np.array(Sv)\n",
    "    Dh = np.array(Dh)\n",
    "    Dv = np.array(Dv)\n",
    "    return final_dataVolume, vfield, vfield_corrected, Sh, Sv, Dh, Dv\n",
    "            \n",
    "num_files = len([f for f in os.listdir(myPath)\n",
    "     if f.endswith('.ims') and os.path.isfile(os.path.join(myPath, f))])\n",
    "\n",
    "z_depths = []\n",
    "t = 0\n",
    "for i, file in tqdm(enumerate(os.listdir(myPath)),desc = \"Loading...\"):\n",
    "    if file.endswith(\".ims\"):\n",
    "        filename = os.path.join(myPath,file)\n",
    "        h5 = h5py.File(filename,'r')\n",
    "        dsi_im = h5[\"DataSetInfo\"][\"Image\"]\n",
    "        z_str = dsi_im.attrs['Z']\n",
    "        z_float = str_arr_to_float(z_str)\n",
    "        z_int = int(z_float)\n",
    "        z_depths.append(z_float)\n",
    "        x_str = dsi_im.attrs['X']\n",
    "        x_float = str_arr_to_float(x_str)\n",
    "        x_int = int(x_float)\n",
    "        y_str = dsi_im.attrs['Y']\n",
    "        y_float = str_arr_to_float(y_str)\n",
    "        y_int = int(y_float)        \n",
    "        if i == 0:\n",
    "            channels = list(h5[\"DataSet\"][\"ResolutionLevel 0\"][\"TimePoint 0\"].keys())\n",
    "            r = np.random.permutation(z_int) - 1\n",
    "            slicesamples=r[0:ceil(len(r)/downslice_factor)]\n",
    "            if slicesamples.size == 0:\n",
    "                slicesamples = [0]\n",
    "            dataVolume=np.zeros([int(np.round(x_int/downsample_factor)),int(np.round(y_int/downsample_factor)),num_files*len(slicesamples),len(channels)])\n",
    "        for k, s in enumerate(slicesamples):\n",
    "            for chan, key in enumerate(channels):\n",
    "                ds = h5[\"DataSet\"][\"ResolutionLevel 0\"][\"TimePoint 0\"][key][\"Data\"][s,:,:]\n",
    "                ds = np.array(ds)\n",
    "                ds = np.transpose(ds)\n",
    "                dataVolume[:,:,k,chan] = resize(ds,(int(np.round(x_int/downsample_factor)),int(np.round(y_int/downsample_factor))), preserve_range=True)\n",
    "num_chans = len(channels)\n",
    "vfield = {}\n",
    "vfield_corrected = {}\n",
    "Sh = {}\n",
    "Sv = {}\n",
    "Dh = {}\n",
    "Dv = {}\n",
    "for i in tqdm(range(num_chans),desc = \"deriving vignette correction per channel...\"): \n",
    "    _, vfield[channels[i]],vfield_corrected[channels[i]],Sh[channels[i]], Sv[channels[i]], Dh[channels[i]], Dv[channels[i]] = vignette_correction(dataVolume[:,:,:,i])"
   ]
  },
  {
   "cell_type": "code",
   "execution_count": 3,
   "metadata": {},
   "outputs": [
    {
     "data": {
      "text/plain": [
       "<matplotlib.colorbar.Colorbar at 0x7fc51cc6fac8>"
      ]
     },
     "execution_count": 3,
     "metadata": {},
     "output_type": "execute_result"
    },
    {
     "data": {
      "image/png": "[encoded data removed]",
      "text/plain": [
       "<Figure size 432x288 with 4 Axes>"
      ]
     },
     "metadata": {
      "needs_background": "light"
     },
     "output_type": "display_data"
    }
   ],
   "source": [
    "f, (ax1,ax2) = plt.subplots(2, 1, sharey=True)\n",
    "\n",
    "c = ax1.imshow(vfield[channels[0]])\n",
    "plt.colorbar(c, ax =ax1)\n",
    "d = ax2.imshow(vfield_corrected[channels[0]])\n",
    "plt.colorbar(d, ax =ax2)"
   ]
  },
  {
   "cell_type": "code",
   "execution_count": 4,
   "metadata": {},
   "outputs": [
    {
     "data": {
      "text/plain": [
       "<matplotlib.colorbar.Colorbar at 0x7fc51cb1b278>"
      ]
     },
     "execution_count": 4,
     "metadata": {},
     "output_type": "execute_result"
    },
    {
     "data": {
      "image/png": "[encoded data removed]",
      "text/plain": [
       "<Figure size 432x288 with 4 Axes>"
      ]
     },
     "metadata": {
      "needs_background": "light"
     },
     "output_type": "display_data"
    }
   ],
   "source": [
    "f, (ax1,ax2) = plt.subplots(2, 1, sharey=True)\n",
    "\n",
    "c = ax1.imshow(vfield[channels[1]])\n",
    "plt.colorbar(c, ax =ax1)\n",
    "d = ax2.imshow(vfield_corrected[channels[1]])\n",
    "plt.colorbar(d, ax =ax2)\n"
   ]
  },
  {
   "cell_type": "code",
   "execution_count": 5,
   "metadata": {},
   "outputs": [
    {
     "data": {
      "text/plain": [
       "<matplotlib.colorbar.Colorbar at 0x7fc51c9d8128>"
      ]
     },
     "execution_count": 5,
     "metadata": {},
     "output_type": "execute_result"
    },
    {
     "data": {
      "image/png": "[encoded data removed]",
      "text/plain": [
       "<Figure size 432x288 with 4 Axes>"
      ]
     },
     "metadata": {
      "needs_background": "light"
     },
     "output_type": "display_data"
    }
   ],
   "source": [
    "f, (ax1,ax2) = plt.subplots(2, 1, sharey=True)\n",
    "\n",
    "c = ax1.imshow(vfield[channels[2]])\n",
    "plt.colorbar(c, ax =ax1)\n",
    "d = ax2.imshow(vfield_corrected[channels[2]])\n",
    "plt.colorbar(d, ax =ax2)\n"
   ]
  },
  {
   "cell_type": "code",
   "execution_count": 6,
   "metadata": {},
   "outputs": [
    {
     "data": {
      "text/plain": [
       "(array([19.,  0.,  0.,  1.,  2.,  1.,  3.,  0.,  2.,  0.,  6.,  0.,  6.,\n",
       "         0.,  1.,  0.,  3.,  4.,  0., 54.]),\n",
       " array([0.99854072, 0.99861369, 0.99868665, 0.99875961, 0.99883258,\n",
       "        0.99890554, 0.99897851, 0.99905147, 0.99912443, 0.9991974 ,\n",
       "        0.99927036, 0.99934332, 0.99941629, 0.99948925, 0.99956222,\n",
       "        0.99963518, 0.99970814, 0.99978111, 0.99985407, 0.99992704,\n",
       "        1.        ]),\n",
       " <BarContainer object of 20 artists>)"
      ]
     },
     "execution_count": 6,
     "metadata": {},
     "output_type": "execute_result"
    },
    {
     "data": {
      "image/png": "[encoded data removed]",
      "text/plain": [
       "<Figure size 432x288 with 4 Axes>"
      ]
     },
     "metadata": {
      "needs_background": "light"
     },
     "output_type": "display_data"
    }
   ],
   "source": [
    "f, axs = plt.subplots(2, 2)\n",
    "axs[0,0].hist(Dh[channels[0]][0,:],bins=20)\n",
    "axs[0,1].hist(Dv[channels[0]][0,:],bins=20)\n",
    "axs[1,0].hist(Sh[channels[0]][0,:],bins=20)\n",
    "axs[1,1].hist(Sv[channels[0]][0,:],bins=20)"
   ]
  },
  {
   "cell_type": "code",
   "execution_count": 7,
   "metadata": {},
   "outputs": [
    {
     "data": {
      "text/plain": [
       "(array([ 1.,  0.,  1.,  5.,  2.,  4.,  5.,  7.,  6., 12., 13.,  1.,  7.,\n",
       "         7., 12.,  4.,  2.,  2.,  1., 10.]),\n",
       " array([0.99586293, 0.99641746, 0.996972  , 0.99752653, 0.99808106,\n",
       "        0.9986356 , 0.99919013, 0.99974466, 1.00029919, 1.00085373,\n",
       "        1.00140826, 1.00196279, 1.00251733, 1.00307186, 1.00362639,\n",
       "        1.00418093, 1.00473546, 1.00528999, 1.00584453, 1.00639906,\n",
       "        1.00695359]),\n",
       " <BarContainer object of 20 artists>)"
      ]
     },
     "execution_count": 7,
     "metadata": {},
     "output_type": "execute_result"
    },
    {
     "data": {
      "image/png": "[encoded data removed]",
      "text/plain": [
       "<Figure size 432x288 with 4 Axes>"
      ]
     },
     "metadata": {
      "needs_background": "light"
     },
     "output_type": "display_data"
    }
   ],
   "source": [
    "f, axs = plt.subplots(2, 2)\n",
    "axs[0,0].hist(Dh[channels[1]][0,:],bins=20)\n",
    "axs[0,1].hist(Dv[channels[1]][0,:],bins=20)\n",
    "axs[1,0].hist(Sh[channels[1]][0,:],bins=20)\n",
    "axs[1,1].hist(Sv[channels[1]][0,:],bins=20)"
   ]
  },
  {
   "cell_type": "code",
   "execution_count": 8,
   "metadata": {},
   "outputs": [
    {
     "data": {
      "text/plain": [
       "(array([  0.,   0.,   0.,   0.,   0.,   0.,   0.,   0.,   0.,   0., 102.,\n",
       "          0.,   0.,   0.,   0.,   0.,   0.,   0.,   0.,   0.]),\n",
       " array([0.5 , 0.55, 0.6 , 0.65, 0.7 , 0.75, 0.8 , 0.85, 0.9 , 0.95, 1.  ,\n",
       "        1.05, 1.1 , 1.15, 1.2 , 1.25, 1.3 , 1.35, 1.4 , 1.45, 1.5 ]),\n",
       " <BarContainer object of 20 artists>)"
      ]
     },
     "execution_count": 8,
     "metadata": {},
     "output_type": "execute_result"
    },
    {
     "data": {
      "image/png": "[encoded data removed]",
      "text/plain": [
       "<Figure size 432x288 with 4 Axes>"
      ]
     },
     "metadata": {
      "needs_background": "light"
     },
     "output_type": "display_data"
    }
   ],
   "source": [
    "f, axs = plt.subplots(2, 2)\n",
    "axs[0,0].hist(Dh[channels[2]][0,:],bins=20)\n",
    "axs[0,1].hist(Dv[channels[2]][0,:],bins=20)\n",
    "axs[1,0].hist(Sh[channels[2]][0,:],bins=20)\n",
    "axs[1,1].hist(Sv[channels[2]][0,:],bins=20)"
   ]
  },
  {
   "cell_type": "code",
   "execution_count": 9,
   "metadata": {
    "scrolled": true
   },
   "outputs": [],
   "source": [
    "nSh = {}\n",
    "nSv = {}\n",
    "nDh = {}\n",
    "nDv = {}\n",
    "for i in range(num_chans):\n",
    "    nSh[channels[i]] = rescale(Sh[channels[i]], x_int/len(Sh[channels[i]][0]))    \n",
    "    nSv[channels[i]] = rescale(Sv[channels[i]], y_int/len(Sv[channels[i]][0]))\n",
    "    nDh[channels[i]] = rescale(Dh[channels[i]], x_int/len(Dh[channels[i]][0]))\n",
    "    nDv[channels[i]] = rescale(Dv[channels[i]], y_int/len(Dv[channels[i]][0]))\n"
   ]
  },
  {
   "cell_type": "code",
   "execution_count": 10,
   "metadata": {},
   "outputs": [
    {
     "data": {
      "text/plain": [
       "(array([1886.,   20.,   19.,    5.,    6.,    6.,    5.,   10.,   24.,\n",
       "           7.,    3.,    3.,    3.,    3.,    3.,    3.,    3.,    3.,\n",
       "           3.,   33.]),\n",
       " array([1.        , 1.00049505, 1.0009901 , 1.00148515, 1.0019802 ,\n",
       "        1.00247525, 1.0029703 , 1.00346535, 1.0039604 , 1.00445545,\n",
       "        1.0049505 , 1.00544554, 1.00594059, 1.00643564, 1.00693069,\n",
       "        1.00742574, 1.00792079, 1.00841584, 1.00891089, 1.00940594,\n",
       "        1.00990099]),\n",
       " <BarContainer object of 20 artists>)"
      ]
     },
     "execution_count": 10,
     "metadata": {},
     "output_type": "execute_result"
    },
    {
     "data": {
      "image/png": "[encoded data removed]",
      "text/plain": [
       "<Figure size 432x288 with 4 Axes>"
      ]
     },
     "metadata": {
      "needs_background": "light"
     },
     "output_type": "display_data"
    }
   ],
   "source": [
    "f, axs = plt.subplots(2, 2)\n",
    "axs[0,0].hist(Dh[channels[0]][0,:],bins = 20)\n",
    "axs[0,1].hist(nDh[channels[0]][0,:],bins = 20)\n",
    "axs[1,0].hist(Sh[channels[0]][0,:],bins = 20)\n",
    "axs[1,1].hist(nSh[channels[0]][0,:],bins = 20)"
   ]
  },
  {
   "cell_type": "code",
   "execution_count": 11,
   "metadata": {},
   "outputs": [
    {
     "data": {
      "text/plain": [
       "(array([110., 211.,  39., 486.,  41.,  42.,  43.,  23.,  13.,  14.,  22.,\n",
       "         36., 535.,  43., 303.,  24.,  17.,  10.,   3.,  33.]),\n",
       " array([0.99911647, 0.99972856, 1.00034064, 1.00095273, 1.00156481,\n",
       "        1.0021769 , 1.00278898, 1.00340107, 1.00401315, 1.00462524,\n",
       "        1.00523732, 1.00584941, 1.00646149, 1.00707358, 1.00768566,\n",
       "        1.00829775, 1.00890983, 1.00952192, 1.010134  , 1.01074609,\n",
       "        1.01135817]),\n",
       " <BarContainer object of 20 artists>)"
      ]
     },
     "execution_count": 11,
     "metadata": {},
     "output_type": "execute_result"
    },
    {
     "data": {
      "image/png": "[encoded data removed]",
      "text/plain": [
       "<Figure size 432x288 with 4 Axes>"
      ]
     },
     "metadata": {
      "needs_background": "light"
     },
     "output_type": "display_data"
    }
   ],
   "source": [
    "f, axs = plt.subplots(2, 2)\n",
    "axs[0,0].hist(Dh[channels[1]][0,:],bins = 20)\n",
    "axs[0,1].hist(nDh[channels[1]][0,:],bins = 20)\n",
    "axs[1,0].hist(Sh[channels[1]][0,:],bins = 20)\n",
    "axs[1,1].hist(nSh[channels[1]][0,:],bins = 20)"
   ]
  },
  {
   "cell_type": "code",
   "execution_count": 12,
   "metadata": {},
   "outputs": [
    {
     "data": {
      "text/plain": [
       "(array([1932.,    4.,    4.,    4.,    4.,    4.,    4.,    4.,    4.,\n",
       "           4.,    5.,    5.,    5.,    5.,    5.,    5.,    5.,    5.,\n",
       "           5.,   35.]),\n",
       " array([1.        , 1.00049505, 1.0009901 , 1.00148515, 1.0019802 ,\n",
       "        1.00247525, 1.0029703 , 1.00346535, 1.0039604 , 1.00445545,\n",
       "        1.0049505 , 1.00544554, 1.00594059, 1.00643564, 1.00693069,\n",
       "        1.00742574, 1.00792079, 1.00841584, 1.00891089, 1.00940594,\n",
       "        1.00990099]),\n",
       " <BarContainer object of 20 artists>)"
      ]
     },
     "execution_count": 12,
     "metadata": {},
     "output_type": "execute_result"
    },
    {
     "data": {
      "image/png": "[encoded data removed]",
      "text/plain": [
       "<Figure size 432x288 with 4 Axes>"
      ]
     },
     "metadata": {
      "needs_background": "light"
     },
     "output_type": "display_data"
    }
   ],
   "source": [
    "f, axs = plt.subplots(2, 2)\n",
    "axs[0,0].hist(Dh[channels[2]][0,:],bins = 20)\n",
    "axs[0,1].hist(nDh[channels[2]][0,:],bins = 20)\n",
    "axs[1,0].hist(Sh[channels[2]][0,:],bins = 20)\n",
    "axs[1,1].hist(nSh[channels[2]][0,:],bins = 20)"
   ]
  },
  {
   "cell_type": "code",
   "execution_count": null,
   "metadata": {},
   "outputs": [
    {
     "name": "stderr",
     "output_type": "stream",
     "text": [
      "Loading...:  40%|████      | 2/5 [25:42<32:31, 650.66s/it]"
     ]
    }
   ],
   "source": [
    "dataSlice = {}\n",
    "corr_dataSlice = {}\n",
    "positions = []\n",
    "files = []\n",
    "meta_pos = {}\n",
    "raw_stacks = []\n",
    "corr_stacks = []\n",
    "vfield_stacks = []\n",
    "vfield_corr_stacks = []\n",
    "    \n",
    "for s in tqdm(range(5),desc = \"Loading...\"):\n",
    "    counter = 0\n",
    "    for k, file in enumerate(os.listdir(myPath)):\n",
    "        if file.endswith(\".ims\"):    \n",
    "\n",
    "            files.append(os.path.join(myPath, file))\n",
    "            filename = os.path.join(myPath, file)\n",
    "\n",
    "            h5 = h5py.File(filename, 'r')\n",
    "            dsi_img = h5[\"DataSetInfo\"][\"Image\"]\n",
    "\n",
    "            emax0_str_arr = dsi_img.attrs['ExtMax0']\n",
    "            extmax0 = str_arr_to_float(emax0_str_arr)\n",
    "            emax1_str_arr = dsi_img.attrs['ExtMax1']\n",
    "            extmax1 = str_arr_to_float(emax1_str_arr)\n",
    "\n",
    "            emin0_str_arr = dsi_img.attrs['ExtMin0']\n",
    "            extmin0 = str_arr_to_float(emin0_str_arr)\n",
    "\n",
    "            emin1_str_arr = dsi_img.attrs['ExtMin1']\n",
    "            extmin1 = str_arr_to_float(emin1_str_arr)\n",
    "\n",
    "            positions.append([extmin0, extmax0, extmin1, extmax1])\n",
    "            for chan in channels:\n",
    "                ds = h5[\"DataSet\"][\"ResolutionLevel 0\"][\"TimePoint 0\"][chan][\"Data\"][s,:,:]\n",
    "                ds = np.array(ds)\n",
    "                ds = np.transpose(ds)\n",
    "                corr_ds = ds\n",
    "                corr_ds = col_sum(col_mult(corr_ds,nSh[chan][0]),nDh[chan][0])\n",
    "                corr_ds = row_sum(row_mult(corr_ds,nSv[chan][0]),nDv[chan][0])\n",
    "                dataSlice[chan+str(counter)] = ds\n",
    "                corr_dataSlice[chan+str(counter)] = corr_ds\n",
    "            meta_pos[file] = [extmin0, extmax0, extmin1, extmax1]\n",
    "            counter += 1\n",
    "        \n",
    "    positions = np.array(positions)\n",
    "    min_x = min(positions[:,0])\n",
    "    min_y = min(positions[:,2])\n",
    "    positions[:,0] = positions[:,0] - min_x\n",
    "    positions[:,1] = positions[:,1] - min_x\n",
    "    positions[:,2] = positions[:,2] - min_y\n",
    "    positions[:,3] = positions[:,3] - min_y\n",
    "    adjustment = np.abs(positions[0,1] - positions[0,0])\n",
    "    positions = np.multiply(np.divide(positions,adjustment),x_int)\n",
    "    positions=np.round(positions)\n",
    "\n",
    "    I=np.zeros((int(max(positions[:,1])),int(max(positions[:,3])),num_chans))\n",
    "    Icorr = np.zeros(I.shape)\n",
    "    vignette_field = np.zeros(I.shape)\n",
    "    vignette_field_corrected = np.zeros(I.shape)\n",
    "    counts = np.zeros(I.shape)\n",
    "\n",
    "    for k in range(num_files):\n",
    "        x_min = int(positions[k,0])\n",
    "        x_max = int(positions[k,1])\n",
    "        y_min = int(positions[k,2])\n",
    "        y_max = int(positions[k,3])\n",
    "        for i, chan in enumerate(channels):\n",
    "            I[x_min:x_max,y_min:y_max,i] = I[x_min:x_max,y_min:y_max,i] + resize(dataSlice[chan+str(k)],(x_max-x_min, y_max-y_min),preserve_range=True)            \n",
    "            Icorr[x_min:x_max,y_min:y_max,i] = Icorr[x_min:x_max,y_min:y_max,i] + resize(corr_dataSlice[chan+str(k)],(x_max-x_min, y_max-y_min),preserve_range=True)\n",
    "            vignette_field[x_min:x_max,y_min:y_max,i] = vignette_field[x_min:x_max,y_min:y_max,i] + resize(vfield[chan], (x_max-x_min, y_max-y_min),preserve_range=True)\n",
    "            vignette_field_corrected[x_min:x_max,y_min:y_max,i] = vignette_field_corrected[x_min:x_max,y_min:y_max,i] + resize(vfield_corrected[chan], (x_max-x_min, y_max-y_min),preserve_range=True)\n",
    "            counts[x_min:x_max,y_min:y_max,i] = counts[x_min:x_max,y_min:y_max,i] + np.ones((x_max-x_min,y_max-y_min))\n",
    "    I=np.divide(I, counts)\n",
    "    Icorr=np.divide(Icorr,counts)\n",
    "    vignette_field = np.divide(vignette_field,counts)\n",
    "    vignette_field_corrected = np.divide(vignette_field_corrected,counts)\n",
    "\n",
    "    if len(raw_stacks) == 0:\n",
    "        raw_stacks = np.reshape(I, (I.shape[0],I.shape[1],I.shape[2],1),order = 'F')\n",
    "        corr_stacks = np.reshape(Icorr, (I.shape[0],I.shape[1],I.shape[2],1),order = 'F')\n",
    "        vfield_stacks = np.reshape(vignette_field, (I.shape[0],I.shape[1],I.shape[2],1),order = 'F')\n",
    "        vfield_corr_stacks = np.reshape(vignette_field_corrected, (I.shape[0],I.shape[1],I.shape[2],1),order = 'F')        \n",
    "    else:\n",
    "        I_int = np.reshape(I, (I.shape[0],I.shape[1],I.shape[2],1),order = 'F')\n",
    "        raw_stacks = np.concatenate([raw_stacks,I_int],axis = 3)\n",
    "\n",
    "        Icorr_int = np.reshape(Icorr, (I.shape[0],I.shape[1],I.shape[2],1),order = 'F')\n",
    "        corr_stacks = np.concatenate([corr_stacks,Icorr_int],axis = 3)\n",
    "\n",
    "        vfield_int = np.reshape(vignette_field, (I.shape[0],I.shape[1],I.shape[2],1),order = 'F')\n",
    "        vfield_stacks = np.concatenate([vfield_stacks,vfield_int],axis = 3)\n",
    "\n",
    "        vfield_corr_int = np.reshape(vignette_field_corrected, (I.shape[0],I.shape[1],I.shape[2],1),order = 'F')\n",
    "        vfield_corr_stacks = np.concatenate([vfield_corr_stacks,vfield_corr_int],axis = 3)\n",
    "\n",
    "    positions = []\n",
    "    dataSlice = {}   \n",
    "    corr_dataSlice = {}\n",
    "\n",
    "#raw_stacks = raw_stacks.astype('int32')\n",
    "tif.imsave('3_chan_bIraw_full_0.tif', raw_stacks, bigtiff=True)\n",
    "\n",
    "#corr_stacks = corr_stacks.astype('int32')\n",
    "tif.imsave('3_chan_bIcorr_full_0.tif', corr_stacks, bigtiff=True)\n",
    "\n",
    "# vfield_stacks = vfield_stacks.astype('int32')\n",
    "tif.imsave('vfield.tif', vfield_stacks, bigtiff=True)\n",
    "\n",
    "# vfield_corr_stacks = vfield_corr_stacks.astype('int32')\n",
    "tif.imsave('vfield_corr.tif', vfield_corr_stacks, bigtiff=True)\n"
   ]
  },
  {
   "cell_type": "code",
   "execution_count": null,
   "metadata": {},
   "outputs": [],
   "source": [
    "f, axs = plt.subplots(2, 2, sharey=True)\n",
    "axs[0,0].imshow(raw_stacks[:,:,0,0])\n",
    "axs[0,1].imshow(corr_stacks[:,:,0,0])\n",
    "axs[1,0].imshow(vfield_stacks[:,:,0,0])\n",
    "axs[1,1].imshow(vfield_corr_stacks[:,:,0,0])"
   ]
  },
  {
   "cell_type": "code",
   "execution_count": null,
   "metadata": {},
   "outputs": [],
   "source": [
    "f, axs = plt.subplots(2, 2, sharey=True)\n",
    "axs[0,0].imshow(raw_stacks[:,:,1,0])\n",
    "axs[0,1].imshow(corr_stacks[:,:,1,0])\n",
    "axs[1,0].imshow(vfield_stacks[:,:,1,0])\n",
    "axs[1,1].imshow(vfield_corr_stacks[:,:,1,0])"
   ]
  },
  {
   "cell_type": "code",
   "execution_count": null,
   "metadata": {},
   "outputs": [],
   "source": [
    "f, axs = plt.subplots(2, 2, sharey=True)\n",
    "axs[0,0].imshow(raw_stacks[:,:,2,0])\n",
    "axs[0,1].imshow(corr_stacks[:,:,2,0])\n",
    "axs[1,0].imshow(vfield_stacks[:,:,2,0])\n",
    "axs[1,1].imshow(vfield_corr_stacks[:,:,2,0])"
   ]
  },
  {
   "cell_type": "code",
   "execution_count": null,
   "metadata": {},
   "outputs": [],
   "source": []
  },
  {
   "cell_type": "code",
   "execution_count": null,
   "metadata": {},
   "outputs": [],
   "source": []
  }
 ],
 "metadata": {
  "kernelspec": {
   "display_name": "Python 3",
   "language": "python",
   "name": "python3"
  },
  "language_info": {
   "codemirror_mode": {
    "name": "ipython",
    "version": 3
   },
   "file_extension": ".py",
   "mimetype": "text/x-python",
   "name": "python",
   "nbconvert_exporter": "python",
   "pygments_lexer": "ipython3",
   "version": "3.6.9"
  }
 },
 "nbformat": 4,
 "nbformat_minor": 4
}
